{
 "cells": [
  {
   "cell_type": "code",
   "execution_count": 1,
   "id": "7a203d90",
   "metadata": {},
   "outputs": [],
   "source": [
    "import numpy as np"
   ]
  },
  {
   "cell_type": "markdown",
   "id": "9a7f29ff",
   "metadata": {},
   "source": [
    "# NumPy Illustrated: The Visual Guide to NumPy"
   ]
  },
  {
   "cell_type": "code",
   "execution_count": 2,
   "id": "f4b52cd9",
   "metadata": {},
   "outputs": [
    {
     "data": {
      "text/plain": [
       "[1, 2, 3]"
      ]
     },
     "execution_count": 2,
     "metadata": {},
     "output_type": "execute_result"
    }
   ],
   "source": [
    "[1,2] + [3]"
   ]
  },
  {
   "cell_type": "code",
   "execution_count": 3,
   "id": "35a94435",
   "metadata": {},
   "outputs": [],
   "source": [
    "# np.array([1,2]) - np.array([3])\n",
    "# np.array([1,2]) ** np.array([3])\n",
    "# np.array([1,2]) * np.array([3])\n",
    "# np.array([1,2]) / np.array([3])"
   ]
  },
  {
   "cell_type": "markdown",
   "id": "d5181610",
   "metadata": {},
   "source": [
    "### Numpy Array vs. Python List"
   ]
  },
  {
   "cell_type": "markdown",
   "id": "3dedbcc2",
   "metadata": {},
   "source": [
    "### python liste"
   ]
  },
  {
   "cell_type": "code",
   "execution_count": 4,
   "id": "3c952da3",
   "metadata": {},
   "outputs": [
    {
     "data": {
      "text/plain": [
       "[2, 4, 6]"
      ]
     },
     "execution_count": 4,
     "metadata": {},
     "output_type": "execute_result"
    }
   ],
   "source": [
    "a = [1,2,3]\n",
    "[q * 2 for q in a]"
   ]
  },
  {
   "cell_type": "markdown",
   "id": "940a036e",
   "metadata": {},
   "source": [
    "### numpy array"
   ]
  },
  {
   "cell_type": "code",
   "execution_count": 5,
   "id": "2983633f",
   "metadata": {},
   "outputs": [
    {
     "data": {
      "text/plain": [
       "array([2, 4, 6])"
      ]
     },
     "execution_count": 5,
     "metadata": {},
     "output_type": "execute_result"
    }
   ],
   "source": [
    "a = np.array([1,2,3])\n",
    "a * 2"
   ]
  },
  {
   "cell_type": "markdown",
   "id": "8cb71103",
   "metadata": {},
   "source": [
    "### python list "
   ]
  },
  {
   "cell_type": "code",
   "execution_count": 6,
   "id": "db12994a",
   "metadata": {},
   "outputs": [
    {
     "data": {
      "text/plain": [
       "[5, 7, 9]"
      ]
     },
     "execution_count": 6,
     "metadata": {},
     "output_type": "execute_result"
    }
   ],
   "source": [
    "a = [1,2,3]\n",
    "\n",
    "b = [4,5,6]\n",
    "[q+r for q,r in zip(a,b)]"
   ]
  },
  {
   "cell_type": "markdown",
   "id": "73a5b7fa",
   "metadata": {},
   "source": [
    "### numpy array"
   ]
  },
  {
   "cell_type": "code",
   "execution_count": 7,
   "id": "31c8248f",
   "metadata": {},
   "outputs": [
    {
     "data": {
      "text/plain": [
       "array([5, 7, 9])"
      ]
     },
     "execution_count": 7,
     "metadata": {},
     "output_type": "execute_result"
    }
   ],
   "source": [
    "a = np.array([1,2,3])\n",
    "b = np.array([4,5,6])\n",
    "a + b"
   ]
  },
  {
   "cell_type": "markdown",
   "id": "17d14a89",
   "metadata": {},
   "source": [
    "## Vectors, the 1D Arrays"
   ]
  },
  {
   "cell_type": "markdown",
   "id": "abc515ea",
   "metadata": {},
   "source": [
    "### Vector initialization"
   ]
  },
  {
   "cell_type": "code",
   "execution_count": 8,
   "id": "8c79b6dc",
   "metadata": {},
   "outputs": [],
   "source": [
    "a = np.array([1.,2.,3.])"
   ]
  },
  {
   "cell_type": "code",
   "execution_count": 9,
   "id": "2c6a2608",
   "metadata": {},
   "outputs": [
    {
     "data": {
      "text/plain": [
       "dtype('float64')"
      ]
     },
     "execution_count": 9,
     "metadata": {},
     "output_type": "execute_result"
    }
   ],
   "source": [
    "a.dtype"
   ]
  },
  {
   "cell_type": "code",
   "execution_count": 10,
   "id": "a91f6876",
   "metadata": {},
   "outputs": [
    {
     "data": {
      "text/plain": [
       "(3,)"
      ]
     },
     "execution_count": 10,
     "metadata": {},
     "output_type": "execute_result"
    }
   ],
   "source": [
    "a.shape"
   ]
  },
  {
   "cell_type": "markdown",
   "id": "0c3e14f9",
   "metadata": {},
   "source": [
    "### allocation ou reservation de l'espace"
   ]
  },
  {
   "cell_type": "code",
   "execution_count": 11,
   "id": "8e5b8e9c",
   "metadata": {},
   "outputs": [],
   "source": [
    "b = np.zeros(3,int)  # zeros pour 0 et ones pour 1"
   ]
  },
  {
   "cell_type": "code",
   "execution_count": 12,
   "id": "c10e7eb6",
   "metadata": {},
   "outputs": [
    {
     "data": {
      "text/plain": [
       "array([0, 0, 0])"
      ]
     },
     "execution_count": 12,
     "metadata": {},
     "output_type": "execute_result"
    }
   ],
   "source": [
    "b"
   ]
  },
  {
   "cell_type": "code",
   "execution_count": 13,
   "id": "6c15eb82",
   "metadata": {},
   "outputs": [],
   "source": [
    "c = np.zeros_like(a)  # Creer un array remplir avec 0 et ayant les caracteristiques de la liste a"
   ]
  },
  {
   "cell_type": "code",
   "execution_count": 14,
   "id": "02382ff9",
   "metadata": {},
   "outputs": [
    {
     "data": {
      "text/plain": [
       "dtype('float64')"
      ]
     },
     "execution_count": 14,
     "metadata": {},
     "output_type": "execute_result"
    }
   ],
   "source": [
    "c.dtype"
   ]
  },
  {
   "cell_type": "code",
   "execution_count": 15,
   "id": "c5219a48",
   "metadata": {},
   "outputs": [],
   "source": [
    "# l = np.zeros(3)\n",
    "# l = np.ones(3)\n",
    "# l = np.empty(3)   \n",
    "# l = np.full(3,7)\n",
    "\n",
    "# l = np.zeros_like(a)\n",
    "# l = np.ones_like(a)\n",
    "# l = np.empty_like(a)   \n",
    "# l = np.full_like(a,7)\n",
    "\n",
    "# l"
   ]
  },
  {
   "cell_type": "markdown",
   "id": "4ffab0da",
   "metadata": {},
   "source": [
    "###  two functions for array initialization\n",
    "     "
   ]
  },
  {
   "cell_type": "code",
   "execution_count": 16,
   "id": "4280b2bc",
   "metadata": {},
   "outputs": [],
   "source": [
    "# np.arange(start, stop, step) : un peu comme la fonction  range()  \n",
    "# b = np.arange(6)\n",
    "# b = np.arange(2,6)\n",
    "# b = np.arange(1,6,2)\n",
    "\n",
    "# b"
   ]
  },
  {
   "cell_type": "code",
   "execution_count": 17,
   "id": "976c5b5e",
   "metadata": {},
   "outputs": [],
   "source": [
    "# np.linspace(start,stop,num)  : comme arange()  ici on donne le min et le max ; le pas (step) est automatique\n",
    "# b = np.linspace(0,0.5,6)\n",
    "# b"
   ]
  },
  {
   "cell_type": "code",
   "execution_count": 18,
   "id": "60a1bd58",
   "metadata": {},
   "outputs": [],
   "source": [
    "# np.arange(start, stop, step).astype(type_de_donnee)\n",
    "# b = np.arange(3).astype(float)\n",
    "# b"
   ]
  },
  {
   "cell_type": "code",
   "execution_count": 19,
   "id": "960ae08d",
   "metadata": {},
   "outputs": [],
   "source": [
    "# autre maniere de le faire\n",
    "# b = np.arange(0.4,0.8,0.1)\n",
    "# b = np.arange(0.5,0.8,0.1)\n",
    "# b = np.arange(0.5,0.75,0.1)\n",
    "# b = np.linspace(0.5,0.7,3)\n",
    "# b = np.linspace(0,1,?)         ???\n",
    "\n",
    "# b"
   ]
  },
  {
   "cell_type": "markdown",
   "id": "0bccefdf",
   "metadata": {},
   "source": [
    "### valeur random"
   ]
  },
  {
   "cell_type": "code",
   "execution_count": 20,
   "id": "452647d6",
   "metadata": {},
   "outputs": [],
   "source": [
    "# v = np.random.randint(0,10,3)  # [0, 10[\n",
    "# v = np.random.rand(3)  #  [0 , 1[\n",
    "# v = np.random.randn(2)\n",
    "# v = np.random.uniform(1,10,3)\n",
    "# v = np.random.normal(5,2,3)\n",
    "# v"
   ]
  },
  {
   "cell_type": "code",
   "execution_count": 21,
   "id": "0eb0d873",
   "metadata": {},
   "outputs": [],
   "source": [
    "rng = np.random.default_rng()"
   ]
  },
  {
   "cell_type": "code",
   "execution_count": 22,
   "id": "5a3acf69",
   "metadata": {},
   "outputs": [
    {
     "data": {
      "text/plain": [
       "array([5.19418734, 3.75267128, 7.09148342])"
      ]
     },
     "execution_count": 22,
     "metadata": {},
     "output_type": "execute_result"
    }
   ],
   "source": [
    "# rng.integers(0,10,3)   # [0, 10[\n",
    "# rng.integers(0,10,3,endpoint=True)   # [0,10]  \n",
    "# rng.random(3)  # [0, 1[\n",
    "# rng.standard_normal(3) \n",
    "rng.uniform(1,10,3)  # [1, 10[\n",
    "rng.normal(5,2,3) "
   ]
  },
  {
   "cell_type": "markdown",
   "id": "faab869f",
   "metadata": {},
   "source": [
    "## Vector indexing"
   ]
  },
  {
   "cell_type": "code",
   "execution_count": 23,
   "id": "b75d33e7",
   "metadata": {},
   "outputs": [],
   "source": [
    "a = np.arange(1,6) # [1,2,3,4,5]\n",
    "# a[1]\n",
    "# a[2:4]\n",
    "# a[-2:]\n",
    "# a[::2]\n",
    "# a[[1,3,4]]\n",
    "# a[2:4] = 0\n",
    "# a"
   ]
  },
  {
   "cell_type": "markdown",
   "id": "5eccd480",
   "metadata": {},
   "source": [
    "### pythno list vs numpy array"
   ]
  },
  {
   "cell_type": "code",
   "execution_count": 24,
   "id": "6543a3f7",
   "metadata": {},
   "outputs": [],
   "source": [
    "# en Python\n",
    "a = [1,2,3]\n",
    "b = a  # no copy\n",
    "c = a[:]  # copy\n",
    "d = a.copy()"
   ]
  },
  {
   "cell_type": "code",
   "execution_count": 25,
   "id": "8e0b4dc8",
   "metadata": {},
   "outputs": [],
   "source": [
    "# avec numpy array\n",
    "a = np.array([1,2,3])\n",
    "b = a # no copy\n",
    "c = a[:]  # no copy\n",
    "d = a.copy()"
   ]
  },
  {
   "cell_type": "markdown",
   "id": "964a5e39",
   "metadata": {},
   "source": [
    "### affectation multiple"
   ]
  },
  {
   "cell_type": "code",
   "execution_count": 26,
   "id": "1f5c4c62",
   "metadata": {},
   "outputs": [
    {
     "data": {
      "text/plain": [
       "[1, 5, 6, 3]"
      ]
     },
     "execution_count": 26,
     "metadata": {},
     "output_type": "execute_result"
    }
   ],
   "source": [
    "a = [1,2,3]\n",
    "a[1:2] = [5,6]\n",
    "a"
   ]
  },
  {
   "cell_type": "code",
   "execution_count": 27,
   "id": "2d9392c7",
   "metadata": {},
   "outputs": [],
   "source": [
    "a = np.array([1,2,3,4,5,6,7,6,5,4,3,2,1])\n",
    "# a > 5\n",
    "# np.any(a > 5) \n",
    "# np.all(a > 5)\n",
    "# a[a > 5]\n",
    "# a[a > 5] = 0\n",
    "# a[(a >=3) & (a<=5)] = 0  # ??? and ne marche\n",
    "# a"
   ]
  },
  {
   "cell_type": "markdown",
   "id": "e19bb80e",
   "metadata": {},
   "source": [
    "### fonction np.where et np.clip"
   ]
  },
  {
   "cell_type": "code",
   "execution_count": 28,
   "id": "5a8a87a5",
   "metadata": {},
   "outputs": [
    {
     "data": {
      "text/plain": [
       "array([0, 0, 0, 0, 0, 1, 1, 1, 0, 0, 0, 0, 0])"
      ]
     },
     "execution_count": 28,
     "metadata": {},
     "output_type": "execute_result"
    }
   ],
   "source": [
    "a = np.array([1,2,3,4,5,6,7,6,5,4,3,2,1])\n",
    "# np.where(a > 5)\n",
    "# np.nonzero(a > 5)\n",
    "np.where(a > 5 , 1, 0)\n",
    "# np.clip(a,2,5)  #  "
   ]
  },
  {
   "cell_type": "markdown",
   "id": "c845bbae",
   "metadata": {},
   "source": [
    "### Vector operations"
   ]
  },
  {
   "cell_type": "code",
   "execution_count": 29,
   "id": "22f2eb12",
   "metadata": {},
   "outputs": [],
   "source": [
    "a = np.array([1,2])\n",
    "b = np.array([3,4])\n",
    "# np.dot(a,b) # Produit scalaire\n",
    "# np.cross(a,b) # Produit scalaire"
   ]
  },
  {
   "cell_type": "code",
   "execution_count": 30,
   "id": "8bf65334",
   "metadata": {},
   "outputs": [],
   "source": [
    "# np.sin([np.pi,np.pi/2]) # == [sin(np.pi), sin(np.pi/2)]\n"
   ]
  },
  {
   "cell_type": "markdown",
   "id": "e584b553",
   "metadata": {},
   "source": [
    "* Arrondir"
   ]
  },
  {
   "cell_type": "code",
   "execution_count": 31,
   "id": "a6177fd7",
   "metadata": {},
   "outputs": [],
   "source": [
    "R = [1.1,1.5,1.9,2.5]\n",
    "# np.floor(R)  # Par defaut\n",
    "# np.ceil(R)   # par excès \n",
    "# np.round(R)  # entier le plus prochaine"
   ]
  },
  {
   "cell_type": "markdown",
   "id": "7d8ebb3a",
   "metadata": {},
   "source": [
    "* fonction max, min, somme ..."
   ]
  },
  {
   "cell_type": "code",
   "execution_count": 32,
   "id": "847c7c5a",
   "metadata": {},
   "outputs": [],
   "source": [
    "a = np.array([1,2,3])\n",
    "# a.max()  # le max\n",
    "# a.min()\n",
    "# a.sum()   \n",
    "# a.var()   # variance \n",
    "# a.argmax()  # plus grand indice\n",
    "# a.argmin()    # plus petit indice    ??? peut il etre != 0 \n",
    "# a.mean()   #moyenne\n",
    "# a.std()   # Déviation standard  ???\n",
    "# np.median(a) # mediane\n"
   ]
  },
  {
   "cell_type": "markdown",
   "id": "64cc5088",
   "metadata": {},
   "source": [
    "###  fonction de trie  python vs numpy \n",
    "\n"
   ]
  },
  {
   "cell_type": "code",
   "execution_count": null,
   "id": "d06ee208",
   "metadata": {},
   "outputs": [],
   "source": []
  },
  {
   "cell_type": "code",
   "execution_count": 33,
   "id": "d5ecb9f3",
   "metadata": {},
   "outputs": [
    {
     "data": {
      "text/plain": [
       "[('dave', 'B', 10), ('jane', 'B', 12), ('john', 'A', 15)]"
      ]
     },
     "execution_count": 33,
     "metadata": {},
     "output_type": "execute_result"
    }
   ],
   "source": [
    "# En python \n",
    "# a = [4,8,3,6,2,1,0,9,-1]\n",
    "# a.sort()   # trie ordre croissant\n",
    "# sorted(a)    # trie ordre croissant\n",
    "student_tuples = [('john', 'A', 15),('jane', 'B', 12),('dave', 'B', 10),]\n",
    "student_tuples.sort(key=lambda student: student[2])  # trie avec cle \n",
    "student_tuples\n",
    "# a.sort(reverse=True)  # decroissant\n",
    "# a"
   ]
  },
  {
   "cell_type": "code",
   "execution_count": 34,
   "id": "81fd205c",
   "metadata": {},
   "outputs": [],
   "source": [
    "# avec numpy array\n",
    "# a = np.array([4,8,3,6,2,1,0,9,-1])\n",
    "# a.sort()  # trie croissant\n",
    "# a = np.sort(a) # trie croissant\n",
    "# a"
   ]
  },
  {
   "cell_type": "markdown",
   "id": "737f1177",
   "metadata": {},
   "source": [
    "## Searching for an element in a vector"
   ]
  },
  {
   "cell_type": "markdown",
   "id": "52a0c339",
   "metadata": {},
   "source": [
    "* python list"
   ]
  },
  {
   "cell_type": "code",
   "execution_count": 35,
   "id": "ac79a96f",
   "metadata": {},
   "outputs": [
    {
     "ename": "SyntaxError",
     "evalue": "invalid syntax (761500997.py, line 2)",
     "output_type": "error",
     "traceback": [
      "\u001b[1;36m  File \u001b[1;32m\"C:\\Users\\SEYBA\\AppData\\Local\\Temp\\ipykernel_12312\\761500997.py\"\u001b[1;36m, line \u001b[1;32m2\u001b[0m\n\u001b[1;33m    a.index(4[,0[,2]])\u001b[0m\n\u001b[1;37m              ^\u001b[0m\n\u001b[1;31mSyntaxError\u001b[0m\u001b[1;31m:\u001b[0m invalid syntax\n"
     ]
    }
   ],
   "source": [
    "a = [4,8,3,6,2,1,0,9,-1] \n",
    "a.index(4[,0[,2]])"
   ]
  },
  {
   "cell_type": "code",
   "execution_count": null,
   "id": "d03c2a59",
   "metadata": {},
   "outputs": [],
   "source": [
    "a = np.array([4,8,3,6,2,1,0,9,-1,8,4] )\n",
    "# np.where(a==6)[0][0]\n",
    "# next(i[0] for i , v in np.ndenumerate(a) if v==8)  # indice de la premiere occurence ???\n",
    "# a.sort()\n",
    "# np.searchsorted(a,6) # indice ???"
   ]
  },
  {
   "cell_type": "markdown",
   "id": "682bdc0f",
   "metadata": {},
   "source": [
    "## Comparing floats "
   ]
  },
  {
   "cell_type": "code",
   "execution_count": null,
   "id": "51581dc2",
   "metadata": {},
   "outputs": [],
   "source": [
    "# python\n",
    "0.1 + 0.2 == 0.3 # c'est egale à 0.30000000000000004"
   ]
  },
  {
   "cell_type": "code",
   "execution_count": null,
   "id": "fd3b0e30",
   "metadata": {},
   "outputs": [],
   "source": [
    "# numpy\n",
    "np.allclose(0.1 + 0.2,0.3)"
   ]
  },
  {
   "cell_type": "code",
   "execution_count": null,
   "id": "5a1d27be",
   "metadata": {},
   "outputs": [],
   "source": [
    "import math\n",
    "math.isclose(0.1+0.2,0.3)"
   ]
  },
  {
   "cell_type": "code",
   "execution_count": null,
   "id": "431043ca",
   "metadata": {},
   "outputs": [],
   "source": [
    "1e-9 == 2e-9"
   ]
  },
  {
   "cell_type": "code",
   "execution_count": null,
   "id": "d3ba34ed",
   "metadata": {},
   "outputs": [],
   "source": [
    "np.allclose(1e-9,2e-9)"
   ]
  },
  {
   "cell_type": "code",
   "execution_count": null,
   "id": "d2fdf6fc",
   "metadata": {},
   "outputs": [],
   "source": [
    "math.isclose(1e-9,2e-9)"
   ]
  },
  {
   "cell_type": "code",
   "execution_count": null,
   "id": "c0c0984d",
   "metadata": {},
   "outputs": [],
   "source": [
    "0.1 + 0.2 - 0.3  == 0   # c'est egale à 5.551115123125783e-17"
   ]
  },
  {
   "cell_type": "code",
   "execution_count": null,
   "id": "046f5dcf",
   "metadata": {},
   "outputs": [],
   "source": [
    "np.allclose(0.1 + 0.2 - 0.3,0)"
   ]
  },
  {
   "cell_type": "code",
   "execution_count": null,
   "id": "d77c9adc",
   "metadata": {},
   "outputs": [],
   "source": [
    "math.isclose(0.1 + 0.2 - 0.3,0)"
   ]
  },
  {
   "cell_type": "markdown",
   "id": "6f3c9cb5",
   "metadata": {},
   "source": [
    "# 2. Matrices, the 2D Arrays"
   ]
  },
  {
   "cell_type": "markdown",
   "id": "ea406a9a",
   "metadata": {},
   "source": [
    "## Matrix initialization syntax"
   ]
  },
  {
   "cell_type": "code",
   "execution_count": null,
   "id": "8846a578",
   "metadata": {},
   "outputs": [],
   "source": [
    "# a partir d'une liste python\n",
    "# a = np.array([\n",
    "#     [1,2,3],\n",
    "#     [4,5,6]\n",
    "# ])\n",
    "# a.shape   # shape donne (nombre_ligne, nombre_colonne)\n",
    "# a = np.zeros((3,4))   # remplir de 0 ||  np.zeros((lignes, colonnes))\n",
    "# a = np.ones((3,4))      #          de 1\n",
    "# a = np.full((3,4),7)      #          de la valeur qu'on donne\n",
    "# h = np.empty((3,4))  #                de rien\n",
    "# h\n",
    "# a = np.eye(3,5,k=0)    # remplir avec des 1 sur le diagonale a partir de K et des 0 sinon (k peut etre negatif)\n",
    "# a = np.eye(4,k=0)   # si la matrice est carré \n",
    "# a"
   ]
  },
  {
   "cell_type": "markdown",
   "id": "173787ee",
   "metadata": {},
   "source": [
    "## Random matrix generation is also similar to that of vectors"
   ]
  },
  {
   "cell_type": "code",
   "execution_count": null,
   "id": "4f2d3e51",
   "metadata": {},
   "outputs": [],
   "source": [
    "# a = np.random.randint(0,10,(3,4))   # (borne_inf, borne_sup, (lignes, colonnes))\n",
    "# a = np.random.rand(3,4)  # valeur entre 0 et 0\n",
    "# a"
   ]
  },
  {
   "cell_type": "code",
   "execution_count": null,
   "id": "38acaa79",
   "metadata": {},
   "outputs": [],
   "source": [
    "# a = np.array([\n",
    "#     [1,2,3,4],\n",
    "#     [5,6,7,8],\n",
    "#     [9,10,11,12]\n",
    "# ])\n",
    "# a[1,2]  # a[ligne, colonne]\n",
    "# a[2,:]    # a[ligne,:]\n",
    "# a[:,2]   # a[:,colonne]\n",
    "# a[::3,:]  # :: ligne_a_exclure ou colonne\n",
    "# a.sum()\n",
    "# a.sum(axis=0)  # somme de colonne\n",
    "# a.sum(axis=1)  # somme de ligne\n"
   ]
  },
  {
   "cell_type": "markdown",
   "id": "79a7434a",
   "metadata": {},
   "source": [
    "## operation "
   ]
  },
  {
   "cell_type": "code",
   "execution_count": null,
   "id": "427f136f",
   "metadata": {},
   "outputs": [],
   "source": [
    "# a = np.array([\n",
    "#     [1,2],\n",
    "#     [3,4]\n",
    "# ])\n",
    "# b = np.array([\n",
    "#     [3,1],\n",
    "#     [2,4]\n",
    "# ])\n",
    "# a + b  \n",
    "# a - b\n",
    "# a * b\n",
    "# a / b\n",
    "# a ** b\n",
    "# b @ a "
   ]
  },
  {
   "cell_type": "code",
   "execution_count": null,
   "id": "a811de42",
   "metadata": {},
   "outputs": [],
   "source": [
    "M = np.array([\n",
    "    [1,2,3],\n",
    "    [4,5,6],\n",
    "    [7,8,9]\n",
    "])\n",
    "# M / 9  # equvalent à  M / [[9,9,9],[9,9,9],[9,9,9]]\n",
    "# M * [-1,0,1] # equivalent à M * [[-1,0,1],[-1,0,1],[-1,0,1]]\n",
    "M / [[3],[6],[9]] # equivalent à M * [[3,3,3],[6,6,6],[9,9,9]]\n"
   ]
  },
  {
   "cell_type": "code",
   "execution_count": null,
   "id": "6162dec0",
   "metadata": {},
   "outputs": [],
   "source": [
    "# a = np.array([[1,2,3],[4,5,6]])\n",
    "# a.T  # les lignes deviennent des colonnes et les colonnes des lignes\n",
    "b = np.array([[1],[2],[3]])\n",
    "b * b.T"
   ]
  },
  {
   "cell_type": "code",
   "execution_count": null,
   "id": "fc675538",
   "metadata": {},
   "outputs": [],
   "source": [
    "a = np.array([1, 2, 3, 4, 5, 6, 7, 8, 9])\n",
    "a.reshape(1,-1)"
   ]
  },
  {
   "cell_type": "code",
   "execution_count": null,
   "id": "2a92208f",
   "metadata": {},
   "outputs": [],
   "source": [
    "a.reshape(-1,1)"
   ]
  },
  {
   "cell_type": "code",
   "execution_count": null,
   "id": "96fa35bc",
   "metadata": {},
   "outputs": [],
   "source": [
    "a.reshape(3,3)"
   ]
  },
  {
   "cell_type": "markdown",
   "id": "ea73bf63",
   "metadata": {},
   "source": [
    "## Matrix manipulations"
   ]
  },
  {
   "cell_type": "code",
   "execution_count": null,
   "id": "3262ffb2",
   "metadata": {},
   "outputs": [],
   "source": [
    "a = np.array([\n",
    "    [1,2,3,4],\n",
    "    [5,6,7,8],\n",
    "    [9,10,11,12]\n",
    "])\n",
    "c = np.array([\n",
    "    [1,2],\n",
    "    [3,4],\n",
    "    [5,6]\n",
    "])\n",
    "b = np.array([\n",
    "    [1,2,3,4],\n",
    "    [5,6,7,8]\n",
    "])\n",
    "# np.hstack((a,c)) # ajout horizontal\n",
    "# np.vstack((a,b))   # ajout vertical\n",
    "y = np.hstack((a,c))\n",
    "# np.hsplit(y,[3])  # split"
   ]
  },
  {
   "cell_type": "code",
   "execution_count": null,
   "id": "79c80294",
   "metadata": {},
   "outputs": [],
   "source": [
    " a = np.array([\n",
    "     [1,2],\n",
    "     [3,4]\n",
    " ])\n",
    "# np.tile(a,(2,3)) # repliquer (ligne , colonne)\n",
    "# a.repeat(2,axis=0) # repeter selon l'axe (axis = 0 en ligne et axis = 1 en colonne)"
   ]
  },
  {
   "cell_type": "code",
   "execution_count": null,
   "id": "a879560e",
   "metadata": {},
   "outputs": [],
   "source": [
    "a = np.array([\n",
    "    [ 1,  2,  3,  4],\n",
    "    [ 5,  6,  7,  8],\n",
    "    [ 9, 10, 11, 12]])\n",
    "# np.delete(a,[1],axis=1)  # supprimer ligne ou colonne selon (axis)\n",
    "np.delete(a,slice(1,-1),axis=0)"
   ]
  },
  {
   "cell_type": "markdown",
   "id": "d4f4bede",
   "metadata": {},
   "source": [
    "* la focntion append"
   ]
  },
  {
   "cell_type": "code",
   "execution_count": null,
   "id": "f7cebe3b",
   "metadata": {},
   "outputs": [],
   "source": [
    "a = np.array([\n",
    "    [1,  2, 3, 4, 5],\n",
    "    [6,  7, 8, 9, 10],\n",
    "    [11, 12,13,14,15]])\n",
    "# np.append(a, np.zeros(5), axis=0)\n",
    "# np.column_stack(a,np.zeros(3))\n",
    "# a"
   ]
  },
  {
   "cell_type": "markdown",
   "id": "2da44830",
   "metadata": {},
   "source": [
    "* fonction pad"
   ]
  },
  {
   "cell_type": "code",
   "execution_count": null,
   "id": "74f4a2aa",
   "metadata": {},
   "outputs": [],
   "source": [
    "a = np.array([\n",
    "    [1,  2, 3, 4, 5],\n",
    "    [6,  7, 8, 9, 10],\n",
    "    [11, 12,13,14,15]])\n",
    "# np.pad(a,((0,0),(0,2)))\n",
    "# np.pad(a,((0,1),(0,0)))\n",
    "# np.pad(a,((1,1),(1,1)))  # np.pad(a,1)"
   ]
  },
  {
   "cell_type": "markdown",
   "id": "43696694",
   "metadata": {},
   "source": [
    "## Matrix statistics"
   ]
  },
  {
   "cell_type": "code",
   "execution_count": null,
   "id": "3f8d11f9",
   "metadata": {},
   "outputs": [],
   "source": [
    "a = np.array([\n",
    "    [4,8,5],\n",
    "    [9,3,1]\n",
    "])\n",
    "# a.min() # le min parmit toutes les cases\n",
    "# a.max() # le max parmit toutes les cases\n",
    "# a.argmin()\n",
    "# on peut utilise l'argment axis=0 pour la ligne et axis=1 pour la colnne"
   ]
  },
  {
   "cell_type": "markdown",
   "id": "6815ca2f",
   "metadata": {},
   "source": [
    "* any et all"
   ]
  },
  {
   "cell_type": "code",
   "execution_count": null,
   "id": "d60464fb",
   "metadata": {},
   "outputs": [],
   "source": [
    "# np.any(a>5)\n",
    "# np.all(a>5)\n",
    "#On peut aussi utiliser axis comme deuxieme argument"
   ]
  },
  {
   "cell_type": "markdown",
   "id": "87d2f0c5",
   "metadata": {},
   "source": [
    "## Matrix sorting"
   ]
  },
  {
   "cell_type": "code",
   "execution_count": null,
   "id": "ec740e84",
   "metadata": {},
   "outputs": [],
   "source": [
    "# a = np.array([\n",
    "#     [4,8,5],\n",
    "#     [9,3,1]\n",
    "# ])\n",
    "# a.sort() # axis pour spécifier la ligne ou la colnne\n",
    "# a"
   ]
  },
  {
   "cell_type": "code",
   "execution_count": null,
   "id": "8f22466c",
   "metadata": {},
   "outputs": [],
   "source": [
    "# a = np.array([\n",
    "#     [3,4],\n",
    "#     [2,7],\n",
    "#     [1,5],\n",
    "#     [2,6]\n",
    "# ])\n",
    "# b = np.rot90(a)\n",
    "# c = np.lexsort(b)\n",
    "# a[c]"
   ]
  },
  {
   "cell_type": "markdown",
   "id": "14b11db9",
   "metadata": {},
   "source": [
    "# 3D and Above"
   ]
  },
  {
   "cell_type": "markdown",
   "id": "f0d7ae39",
   "metadata": {},
   "source": [
    "* initialisation"
   ]
  },
  {
   "cell_type": "code",
   "execution_count": null,
   "id": "f963f826",
   "metadata": {},
   "outputs": [],
   "source": [
    "a = np.arange(1,9).reshape(2,2,2)\n",
    "a"
   ]
  },
  {
   "cell_type": "code",
   "execution_count": null,
   "id": "8df0fe89",
   "metadata": {},
   "outputs": [],
   "source": [
    "a = np.array([\n",
    "    [\n",
    "        [0,0,0,0],\n",
    "        [0,0,0,0]\n",
    "    ],\n",
    "    [\n",
    "        [1,1,1,1],\n",
    "        [1,1,1,1]\n",
    "    ],\n",
    "    [\n",
    "        [2,2,2,2],\n",
    "        [2,2,2,2]\n",
    "    ]\n",
    "])\n",
    "# a.shape   # les dimensions lignes colonnes et profondeurs\n",
    "# a.ndim  la dimension \n",
    "# a.size\n",
    "np.dstack(a)"
   ]
  },
  {
   "cell_type": "code",
   "execution_count": null,
   "id": "c1490999",
   "metadata": {},
   "outputs": [],
   "source": [
    "a = np.array([\n",
    "    [[0,1,2],[0,1,2],[0,1,2],[0,1,2]],\n",
    "    [[0,1,2],[0,1,2],[0,1,2],[0,1,2]]\n",
    "    \n",
    "])\n",
    "# a.shape\n",
    "# np.dstack(a)"
   ]
  },
  {
   "cell_type": "markdown",
   "id": "d33e7939",
   "metadata": {},
   "source": [
    "###   Creation generique"
   ]
  },
  {
   "cell_type": "code",
   "execution_count": null,
   "id": "b619bbe8",
   "metadata": {},
   "outputs": [],
   "source": [
    "# a = np.zeros((3,4,5))\n",
    "# a = np.zeros((4,5,3))\n",
    "# a = np.ones((3,4,5))\n",
    "# a = np.ones((4,5,3))\n",
    "\n",
    "# a = np.random.rand(3,4,5)\n",
    "# a = np.random.rand(4,5,3)\n",
    "\n",
    "\n",
    "# a"
   ]
  },
  {
   "cell_type": "markdown",
   "id": "b35545c1",
   "metadata": {},
   "source": [
    "* concatenate des array 3D"
   ]
  },
  {
   "cell_type": "code",
   "execution_count": null,
   "id": "ea864b3b",
   "metadata": {},
   "outputs": [],
   "source": [
    "a = np.array([\n",
    "    [\n",
    "        [1,2,3,4],\n",
    "        [5,6,7,8],\n",
    "        [9,10,11,12]\n",
    "    ],\n",
    "    [\n",
    "        [1,2,3,4],\n",
    "        [5,6,7,8],\n",
    "        [9,10,11,12]\n",
    "    ]\n",
    "])\n",
    "b = np.array([\n",
    "    [\n",
    "        [1,2,3,4],\n",
    "        [5,6,7,8]\n",
    "    ],\n",
    "    [\n",
    "        [1,2,3,4],\n",
    "        [5,6,7,8]\n",
    "    ]\n",
    "])\n",
    "\n",
    "c = np.array([\n",
    "    [\n",
    "        [1,2],\n",
    "        [5,6],\n",
    "        [9,10]\n",
    "    ],\n",
    "    [\n",
    "        [1,2],\n",
    "        [5,6],\n",
    "        [9,10]\n",
    "    ]\n",
    "])\n",
    "\n",
    "d = np.array([\n",
    "    [\n",
    "        [0,2,3,4],\n",
    "        [5,6,7,8],\n",
    "        [9,10,11,12]\n",
    "    ],\n",
    "    [\n",
    "        [0,2,3,4],\n",
    "        [5,6,7,8],\n",
    "        [9,10,11,12]\n",
    "    ]\n",
    "])\n",
    "\n",
    "# np.concatenate((a,b),axis=1)\n",
    "# np.concatenate((a,c),axis=2)\n",
    "# np.concatenate((a,d),axis=0)\n",
    "np.concatenate((a,d))"
   ]
  },
  {
   "cell_type": "code",
   "execution_count": null,
   "id": "667cd664",
   "metadata": {},
   "outputs": [],
   "source": [
    "a = np.array([\n",
    "    [\n",
    "        [0,0,0,0],\n",
    "        [0,0,0,0]\n",
    "    ],\n",
    "    [\n",
    "        [1,1,1,1],\n",
    "        [1,1,1,1]\n",
    "    ],\n",
    "    [\n",
    "        [2,2,2,2],\n",
    "        [2,2,2,2]\n",
    "    ]\n",
    "])\n",
    "# np.moveaxis(a,0,2)\n",
    "# np.dstack(a)"
   ]
  },
  {
   "cell_type": "code",
   "execution_count": null,
   "id": "3b34d982",
   "metadata": {},
   "outputs": [],
   "source": [
    "a = np.array([\n",
    "    [\n",
    "        [1,2,3,4],\n",
    "        [5,6,7,8],\n",
    "        [9,10,11,12]\n",
    "    ],\n",
    "    [\n",
    "        [-1,-2,-3,-4],\n",
    "        [-5,-6,-7,-8],\n",
    "        [-9,-10,-11,-12]\n",
    "    ]\n",
    "])\n",
    "# np.swapaxes(a,0,1)\n",
    "# np.swapaxes(a,1,2)\n",
    "# np.swapaxes(a,0,2)\n",
    "# a.T"
   ]
  },
  {
   "cell_type": "code",
   "execution_count": null,
   "id": "8b1c8145",
   "metadata": {},
   "outputs": [],
   "source": [
    "a = np.array([\n",
    "    [\n",
    "        [1,2,3,4],\n",
    "        [5,6,7,8],\n",
    "        [9,10,11,12]\n",
    "    ]\n",
    "])\n",
    "\n",
    "b = np.array([\n",
    "    [\n",
    "        [-1,-2,-3,-4],\n",
    "        [-5,-6,-7,-8],\n",
    "        [-9,-10,-11,-12]\n",
    "    ]\n",
    "])\n",
    "\n",
    "np.einsum('ij,jk->ik',a,b)"
   ]
  }
 ],
 "metadata": {
  "kernelspec": {
   "display_name": "Python 3 (ipykernel)",
   "language": "python",
   "name": "python3"
  },
  "language_info": {
   "codemirror_mode": {
    "name": "ipython",
    "version": 3
   },
   "file_extension": ".py",
   "mimetype": "text/x-python",
   "name": "python",
   "nbconvert_exporter": "python",
   "pygments_lexer": "ipython3",
   "version": "3.9.13"
  }
 },
 "nbformat": 4,
 "nbformat_minor": 5
}
